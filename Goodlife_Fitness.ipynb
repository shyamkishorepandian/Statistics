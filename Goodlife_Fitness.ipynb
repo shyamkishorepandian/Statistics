{
 "cells": [
  {
   "cell_type": "markdown",
   "metadata": {
    "id": "5yQmWybNalxe"
   },
   "source": [
    "# Descriptive Statistics - Goodlife Fitness Case Study\n",
    "## Context :\n",
    "The market research team at Golden Ratio is assigned the task to identify customer profiles for each membership offered by Goodlife Fitness. The market research team decides to investigate whether there are differences across the membership options with respect to customer characteristics. The team decides to collect data on individuals who purchased a membership at a Goodlife Fitness. The data is stored in the GoodlifeFitness.csv file.\n",
    "\n",
    "## Objective :\n",
    "Perform descriptive analysis to create a customer profile for each Goodlife Fitness membership option.\n",
    "\n",
    "### The team identifies the following customer variables to study: \n",
    "  - Type: Basic, Care, or Premium membership options\n",
    "  - Age: Age of the customer in years\n",
    "  - Gender: Male or Female  #these are classes (male and female)\n",
    "  - Education: Education of the customer in years \n",
    "  - MaritalStatus: Single or partnered \n",
    "  - WeeklyUse: The average number of times the customer plans to visit the gym each week\n",
    "  - Fitness: Self-rated fitness on an 1-to-5 scale, where 1 is poor shape and 5 is excellent shape.\n",
    "  - Income: Annual household income  \n",
    "  - Kms: Average number of kms the customer expects to walk/run each week #could be at the gym or outside the gym\n"
   ]
  },
  {
   "cell_type": "markdown",
   "metadata": {
    "id": "6sRRfzaVUW9t"
   },
   "source": [
    "### Import the necessary libraries"
   ]
  },
  {
   "cell_type": "code",
   "execution_count": 1,
   "metadata": {
    "id": "FwqlEvXRalxf"
   },
   "outputs": [],
   "source": [
    "# Load the necessary packages\n",
    "import pandas as pd"
   ]
  },
  {
   "cell_type": "markdown",
   "metadata": {
    "id": "eqvpAZ7-UW9x"
   },
   "source": [
    "### Read the dataset"
   ]
  },
  {
   "cell_type": "code",
   "execution_count": 2,
   "metadata": {
    "id": "PTQiscNQalxi"
   },
   "outputs": [],
   "source": [
    "# Load the GoodlifeFitness.csv Dataset\n",
    "df = pd.read_csv('GoodlifeFitness.csv')"
   ]
  },
  {
   "cell_type": "code",
   "execution_count": 7,
   "metadata": {},
   "outputs": [
    {
     "name": "stdout",
     "output_type": "stream",
     "text": [
      "<class 'pandas.core.frame.DataFrame'>\n",
      "RangeIndex: 180 entries, 0 to 179\n",
      "Data columns (total 9 columns):\n",
      " #   Column         Non-Null Count  Dtype \n",
      "---  ------         --------------  ----- \n",
      " 0   Type           180 non-null    object\n",
      " 1   Age            180 non-null    int64 \n",
      " 2   Gender         180 non-null    object\n",
      " 3   Education      180 non-null    int64 \n",
      " 4   MaritalStatus  180 non-null    object\n",
      " 5   WeeklyUse      180 non-null    int64 \n",
      " 6   Fitness        180 non-null    int64 \n",
      " 7   Income         180 non-null    int64 \n",
      " 8   Kms            180 non-null    int64 \n",
      "dtypes: int64(6), object(3)\n",
      "memory usage: 12.8+ KB\n"
     ]
    }
   ],
   "source": [
    "# check the type of the data variable\n",
    "df.info()\n"
   ]
  },
  {
   "cell_type": "code",
   "execution_count": 8,
   "metadata": {},
   "outputs": [
    {
     "data": {
      "text/plain": [
       "pandas.core.frame.DataFrame"
      ]
     },
     "execution_count": 8,
     "metadata": {},
     "output_type": "execute_result"
    }
   ],
   "source": [
    "type(df)"
   ]
  },
  {
   "cell_type": "code",
   "execution_count": 5,
   "metadata": {
    "id": "6L3dLuhjalxl",
    "outputId": "517ad271-e60d-4665-b785-d4c807052198"
   },
   "outputs": [
    {
     "data": {
      "text/html": [
       "<div>\n",
       "<style scoped>\n",
       "    .dataframe tbody tr th:only-of-type {\n",
       "        vertical-align: middle;\n",
       "    }\n",
       "\n",
       "    .dataframe tbody tr th {\n",
       "        vertical-align: top;\n",
       "    }\n",
       "\n",
       "    .dataframe thead th {\n",
       "        text-align: right;\n",
       "    }\n",
       "</style>\n",
       "<table border=\"1\" class=\"dataframe\">\n",
       "  <thead>\n",
       "    <tr style=\"text-align: right;\">\n",
       "      <th></th>\n",
       "      <th>Type</th>\n",
       "      <th>Age</th>\n",
       "      <th>Gender</th>\n",
       "      <th>Education</th>\n",
       "      <th>MaritalStatus</th>\n",
       "      <th>WeeklyUse</th>\n",
       "      <th>Fitness</th>\n",
       "      <th>Income</th>\n",
       "      <th>Kms</th>\n",
       "    </tr>\n",
       "  </thead>\n",
       "  <tbody>\n",
       "    <tr>\n",
       "      <th>0</th>\n",
       "      <td>Basic</td>\n",
       "      <td>18</td>\n",
       "      <td>Male</td>\n",
       "      <td>14</td>\n",
       "      <td>Single</td>\n",
       "      <td>3</td>\n",
       "      <td>4</td>\n",
       "      <td>29562</td>\n",
       "      <td>180</td>\n",
       "    </tr>\n",
       "    <tr>\n",
       "      <th>1</th>\n",
       "      <td>Basic</td>\n",
       "      <td>19</td>\n",
       "      <td>Male</td>\n",
       "      <td>15</td>\n",
       "      <td>Single</td>\n",
       "      <td>2</td>\n",
       "      <td>3</td>\n",
       "      <td>31836</td>\n",
       "      <td>121</td>\n",
       "    </tr>\n",
       "    <tr>\n",
       "      <th>2</th>\n",
       "      <td>Basic</td>\n",
       "      <td>19</td>\n",
       "      <td>Female</td>\n",
       "      <td>14</td>\n",
       "      <td>Partnered</td>\n",
       "      <td>4</td>\n",
       "      <td>3</td>\n",
       "      <td>30699</td>\n",
       "      <td>106</td>\n",
       "    </tr>\n",
       "    <tr>\n",
       "      <th>3</th>\n",
       "      <td>Basic</td>\n",
       "      <td>19</td>\n",
       "      <td>Male</td>\n",
       "      <td>12</td>\n",
       "      <td>Single</td>\n",
       "      <td>3</td>\n",
       "      <td>3</td>\n",
       "      <td>32973</td>\n",
       "      <td>137</td>\n",
       "    </tr>\n",
       "    <tr>\n",
       "      <th>4</th>\n",
       "      <td>Basic</td>\n",
       "      <td>20</td>\n",
       "      <td>Male</td>\n",
       "      <td>13</td>\n",
       "      <td>Partnered</td>\n",
       "      <td>4</td>\n",
       "      <td>2</td>\n",
       "      <td>35247</td>\n",
       "      <td>76</td>\n",
       "    </tr>\n",
       "    <tr>\n",
       "      <th>5</th>\n",
       "      <td>Basic</td>\n",
       "      <td>20</td>\n",
       "      <td>Female</td>\n",
       "      <td>14</td>\n",
       "      <td>Partnered</td>\n",
       "      <td>3</td>\n",
       "      <td>3</td>\n",
       "      <td>32973</td>\n",
       "      <td>106</td>\n",
       "    </tr>\n",
       "    <tr>\n",
       "      <th>6</th>\n",
       "      <td>Basic</td>\n",
       "      <td>21</td>\n",
       "      <td>Female</td>\n",
       "      <td>14</td>\n",
       "      <td>Partnered</td>\n",
       "      <td>3</td>\n",
       "      <td>3</td>\n",
       "      <td>35247</td>\n",
       "      <td>121</td>\n",
       "    </tr>\n",
       "    <tr>\n",
       "      <th>7</th>\n",
       "      <td>Basic</td>\n",
       "      <td>21</td>\n",
       "      <td>Male</td>\n",
       "      <td>13</td>\n",
       "      <td>Single</td>\n",
       "      <td>3</td>\n",
       "      <td>3</td>\n",
       "      <td>32973</td>\n",
       "      <td>137</td>\n",
       "    </tr>\n",
       "    <tr>\n",
       "      <th>8</th>\n",
       "      <td>Basic</td>\n",
       "      <td>21</td>\n",
       "      <td>Male</td>\n",
       "      <td>15</td>\n",
       "      <td>Single</td>\n",
       "      <td>5</td>\n",
       "      <td>4</td>\n",
       "      <td>35247</td>\n",
       "      <td>227</td>\n",
       "    </tr>\n",
       "    <tr>\n",
       "      <th>9</th>\n",
       "      <td>Basic</td>\n",
       "      <td>21</td>\n",
       "      <td>Female</td>\n",
       "      <td>15</td>\n",
       "      <td>Partnered</td>\n",
       "      <td>2</td>\n",
       "      <td>3</td>\n",
       "      <td>37521</td>\n",
       "      <td>137</td>\n",
       "    </tr>\n",
       "  </tbody>\n",
       "</table>\n",
       "</div>"
      ],
      "text/plain": [
       "    Type  Age  Gender  Education MaritalStatus  WeeklyUse  Fitness  Income  \\\n",
       "0  Basic   18    Male         14        Single          3        4   29562   \n",
       "1  Basic   19    Male         15        Single          2        3   31836   \n",
       "2  Basic   19  Female         14     Partnered          4        3   30699   \n",
       "3  Basic   19    Male         12        Single          3        3   32973   \n",
       "4  Basic   20    Male         13     Partnered          4        2   35247   \n",
       "5  Basic   20  Female         14     Partnered          3        3   32973   \n",
       "6  Basic   21  Female         14     Partnered          3        3   35247   \n",
       "7  Basic   21    Male         13        Single          3        3   32973   \n",
       "8  Basic   21    Male         15        Single          5        4   35247   \n",
       "9  Basic   21  Female         15     Partnered          2        3   37521   \n",
       "\n",
       "   Kms  \n",
       "0  180  \n",
       "1  121  \n",
       "2  106  \n",
       "3  137  \n",
       "4   76  \n",
       "5  106  \n",
       "6  121  \n",
       "7  137  \n",
       "8  227  \n",
       "9  137  "
      ]
     },
     "execution_count": 5,
     "metadata": {},
     "output_type": "execute_result"
    }
   ],
   "source": [
    "# check first 10 rows in the dataframe\n",
    "df.head(10)"
   ]
  },
  {
   "cell_type": "markdown",
   "metadata": {
    "id": "KtCYetCOkyFO"
   },
   "source": [
    "### Printing the basic information"
   ]
  },
  {
   "cell_type": "code",
   "execution_count": 6,
   "metadata": {
    "id": "CdjYq_nqkyFP",
    "outputId": "43c704f5-bed2-48dc-fa85-71751de68e62"
   },
   "outputs": [
    {
     "name": "stdout",
     "output_type": "stream",
     "text": [
      "<class 'pandas.core.frame.DataFrame'>\n",
      "RangeIndex: 180 entries, 0 to 179\n",
      "Data columns (total 9 columns):\n",
      " #   Column         Non-Null Count  Dtype \n",
      "---  ------         --------------  ----- \n",
      " 0   Type           180 non-null    object\n",
      " 1   Age            180 non-null    int64 \n",
      " 2   Gender         180 non-null    object\n",
      " 3   Education      180 non-null    int64 \n",
      " 4   MaritalStatus  180 non-null    object\n",
      " 5   WeeklyUse      180 non-null    int64 \n",
      " 6   Fitness        180 non-null    int64 \n",
      " 7   Income         180 non-null    int64 \n",
      " 8   Kms            180 non-null    int64 \n",
      "dtypes: int64(6), object(3)\n",
      "memory usage: 12.8+ KB\n"
     ]
    }
   ],
   "source": [
    "# check for nulls and other basic info from the data (if it is a string or category then pandas call it as an object)\n",
    "df.info()"
   ]
  },
  {
   "cell_type": "markdown",
   "metadata": {
    "id": "T9WTNzF1kyFQ"
   },
   "source": [
    "**Observations:**\n",
    "- There are 180 observations and 9 columns (6 of them are numerical and 3 are categorical).\n",
    "- All the column have 180 non-null values i.e. there are no missing values in the data."
   ]
  },
  {
   "cell_type": "markdown",
   "metadata": {
    "id": "JiVb8PjFkyFR"
   },
   "source": [
    "## <span style=\"color:crimson\">Univariate Analysis</span>\n",
    "#Each column is a variable, if using 2 variables it is bivariate, if more than 2 it is multivariate analysis"
   ]
  },
  {
   "cell_type": "markdown",
   "metadata": {
    "id": "LZNzh9xikyFS"
   },
   "source": [
    "### Check the five point summary statistics"
   ]
  },
  {
   "cell_type": "code",
   "execution_count": 9,
   "metadata": {
    "id": "gx7XgVaxalxq",
    "outputId": "5daa8977-f41a-4e35-be8d-ed2468efc4fe"
   },
   "outputs": [
    {
     "data": {
      "text/html": [
       "<div>\n",
       "<style scoped>\n",
       "    .dataframe tbody tr th:only-of-type {\n",
       "        vertical-align: middle;\n",
       "    }\n",
       "\n",
       "    .dataframe tbody tr th {\n",
       "        vertical-align: top;\n",
       "    }\n",
       "\n",
       "    .dataframe thead th {\n",
       "        text-align: right;\n",
       "    }\n",
       "</style>\n",
       "<table border=\"1\" class=\"dataframe\">\n",
       "  <thead>\n",
       "    <tr style=\"text-align: right;\">\n",
       "      <th></th>\n",
       "      <th>Age</th>\n",
       "      <th>Education</th>\n",
       "      <th>WeeklyUse</th>\n",
       "      <th>Fitness</th>\n",
       "      <th>Income</th>\n",
       "      <th>Kms</th>\n",
       "    </tr>\n",
       "  </thead>\n",
       "  <tbody>\n",
       "    <tr>\n",
       "      <th>count</th>\n",
       "      <td>180.000000</td>\n",
       "      <td>180.000000</td>\n",
       "      <td>180.000000</td>\n",
       "      <td>180.000000</td>\n",
       "      <td>180.000000</td>\n",
       "      <td>180.000000</td>\n",
       "    </tr>\n",
       "    <tr>\n",
       "      <th>mean</th>\n",
       "      <td>28.788889</td>\n",
       "      <td>15.572222</td>\n",
       "      <td>3.455556</td>\n",
       "      <td>3.311111</td>\n",
       "      <td>53719.577778</td>\n",
       "      <td>166.127778</td>\n",
       "    </tr>\n",
       "    <tr>\n",
       "      <th>std</th>\n",
       "      <td>6.943498</td>\n",
       "      <td>1.617055</td>\n",
       "      <td>1.084797</td>\n",
       "      <td>0.958869</td>\n",
       "      <td>16506.684226</td>\n",
       "      <td>83.438067</td>\n",
       "    </tr>\n",
       "    <tr>\n",
       "      <th>min</th>\n",
       "      <td>18.000000</td>\n",
       "      <td>12.000000</td>\n",
       "      <td>2.000000</td>\n",
       "      <td>1.000000</td>\n",
       "      <td>29562.000000</td>\n",
       "      <td>34.000000</td>\n",
       "    </tr>\n",
       "    <tr>\n",
       "      <th>25%</th>\n",
       "      <td>24.000000</td>\n",
       "      <td>14.000000</td>\n",
       "      <td>3.000000</td>\n",
       "      <td>3.000000</td>\n",
       "      <td>44058.750000</td>\n",
       "      <td>106.000000</td>\n",
       "    </tr>\n",
       "    <tr>\n",
       "      <th>50%</th>\n",
       "      <td>26.000000</td>\n",
       "      <td>16.000000</td>\n",
       "      <td>3.000000</td>\n",
       "      <td>3.000000</td>\n",
       "      <td>50596.500000</td>\n",
       "      <td>151.000000</td>\n",
       "    </tr>\n",
       "    <tr>\n",
       "      <th>75%</th>\n",
       "      <td>33.000000</td>\n",
       "      <td>16.000000</td>\n",
       "      <td>4.000000</td>\n",
       "      <td>4.000000</td>\n",
       "      <td>58668.000000</td>\n",
       "      <td>184.750000</td>\n",
       "    </tr>\n",
       "    <tr>\n",
       "      <th>max</th>\n",
       "      <td>50.000000</td>\n",
       "      <td>21.000000</td>\n",
       "      <td>7.000000</td>\n",
       "      <td>5.000000</td>\n",
       "      <td>104581.000000</td>\n",
       "      <td>579.000000</td>\n",
       "    </tr>\n",
       "  </tbody>\n",
       "</table>\n",
       "</div>"
      ],
      "text/plain": [
       "              Age   Education   WeeklyUse     Fitness         Income  \\\n",
       "count  180.000000  180.000000  180.000000  180.000000     180.000000   \n",
       "mean    28.788889   15.572222    3.455556    3.311111   53719.577778   \n",
       "std      6.943498    1.617055    1.084797    0.958869   16506.684226   \n",
       "min     18.000000   12.000000    2.000000    1.000000   29562.000000   \n",
       "25%     24.000000   14.000000    3.000000    3.000000   44058.750000   \n",
       "50%     26.000000   16.000000    3.000000    3.000000   50596.500000   \n",
       "75%     33.000000   16.000000    4.000000    4.000000   58668.000000   \n",
       "max     50.000000   21.000000    7.000000    5.000000  104581.000000   \n",
       "\n",
       "              Kms  \n",
       "count  180.000000  \n",
       "mean   166.127778  \n",
       "std     83.438067  \n",
       "min     34.000000  \n",
       "25%    106.000000  \n",
       "50%    151.000000  \n",
       "75%    184.750000  \n",
       "max    579.000000  "
      ]
     },
     "execution_count": 9,
     "metadata": {},
     "output_type": "execute_result"
    }
   ],
   "source": [
    "# check analytical summary of the dataset\n",
    "df.describe()"
   ]
  },
  {
   "cell_type": "markdown",
   "metadata": {
    "id": "0xkQt4ibUW90"
   },
   "source": [
    "**Observations:**\n",
    "\n",
    "- Average age of customers is 29 years. And, the age ranges from 18 to 50.\n",
    "- The average annual income of a customer is 53K. It has a range of values from 30K to 104K, which again shows a good diversity of customers.\n",
    "- Median gym usage is 3 days, that means 50% of the cutstomer are going to use the gym for less than or equal to 3 days in a week.  "
   ]
  },
  {
   "cell_type": "code",
   "execution_count": 11,
   "metadata": {},
   "outputs": [
    {
     "data": {
      "text/html": [
       "<div>\n",
       "<style scoped>\n",
       "    .dataframe tbody tr th:only-of-type {\n",
       "        vertical-align: middle;\n",
       "    }\n",
       "\n",
       "    .dataframe tbody tr th {\n",
       "        vertical-align: top;\n",
       "    }\n",
       "\n",
       "    .dataframe thead th {\n",
       "        text-align: right;\n",
       "    }\n",
       "</style>\n",
       "<table border=\"1\" class=\"dataframe\">\n",
       "  <thead>\n",
       "    <tr style=\"text-align: right;\">\n",
       "      <th></th>\n",
       "      <th>Type</th>\n",
       "      <th>Gender</th>\n",
       "      <th>MaritalStatus</th>\n",
       "    </tr>\n",
       "  </thead>\n",
       "  <tbody>\n",
       "    <tr>\n",
       "      <th>count</th>\n",
       "      <td>180</td>\n",
       "      <td>180</td>\n",
       "      <td>180</td>\n",
       "    </tr>\n",
       "    <tr>\n",
       "      <th>unique</th>\n",
       "      <td>3</td>\n",
       "      <td>2</td>\n",
       "      <td>2</td>\n",
       "    </tr>\n",
       "    <tr>\n",
       "      <th>top</th>\n",
       "      <td>Basic</td>\n",
       "      <td>Male</td>\n",
       "      <td>Partnered</td>\n",
       "    </tr>\n",
       "    <tr>\n",
       "      <th>freq</th>\n",
       "      <td>80</td>\n",
       "      <td>104</td>\n",
       "      <td>107</td>\n",
       "    </tr>\n",
       "  </tbody>\n",
       "</table>\n",
       "</div>"
      ],
      "text/plain": [
       "         Type Gender MaritalStatus\n",
       "count     180    180           180\n",
       "unique      3      2             2\n",
       "top     Basic   Male     Partnered\n",
       "freq       80    104           107"
      ]
     },
     "execution_count": 11,
     "metadata": {},
     "output_type": "execute_result"
    }
   ],
   "source": [
    "# check stats for categorical data\n",
    "# data.describe(include='all')\n",
    "df.describe(include='object')"
   ]
  },
  {
   "cell_type": "code",
   "execution_count": 12,
   "metadata": {},
   "outputs": [
    {
     "data": {
      "text/html": [
       "<div>\n",
       "<style scoped>\n",
       "    .dataframe tbody tr th:only-of-type {\n",
       "        vertical-align: middle;\n",
       "    }\n",
       "\n",
       "    .dataframe tbody tr th {\n",
       "        vertical-align: top;\n",
       "    }\n",
       "\n",
       "    .dataframe thead th {\n",
       "        text-align: right;\n",
       "    }\n",
       "</style>\n",
       "<table border=\"1\" class=\"dataframe\">\n",
       "  <thead>\n",
       "    <tr style=\"text-align: right;\">\n",
       "      <th></th>\n",
       "      <th>Type</th>\n",
       "      <th>Age</th>\n",
       "      <th>Gender</th>\n",
       "      <th>Education</th>\n",
       "      <th>MaritalStatus</th>\n",
       "      <th>WeeklyUse</th>\n",
       "      <th>Fitness</th>\n",
       "      <th>Income</th>\n",
       "      <th>Kms</th>\n",
       "    </tr>\n",
       "  </thead>\n",
       "  <tbody>\n",
       "    <tr>\n",
       "      <th>count</th>\n",
       "      <td>180</td>\n",
       "      <td>180.000000</td>\n",
       "      <td>180</td>\n",
       "      <td>180.000000</td>\n",
       "      <td>180</td>\n",
       "      <td>180.000000</td>\n",
       "      <td>180.000000</td>\n",
       "      <td>180.000000</td>\n",
       "      <td>180.000000</td>\n",
       "    </tr>\n",
       "    <tr>\n",
       "      <th>unique</th>\n",
       "      <td>3</td>\n",
       "      <td>NaN</td>\n",
       "      <td>2</td>\n",
       "      <td>NaN</td>\n",
       "      <td>2</td>\n",
       "      <td>NaN</td>\n",
       "      <td>NaN</td>\n",
       "      <td>NaN</td>\n",
       "      <td>NaN</td>\n",
       "    </tr>\n",
       "    <tr>\n",
       "      <th>top</th>\n",
       "      <td>Basic</td>\n",
       "      <td>NaN</td>\n",
       "      <td>Male</td>\n",
       "      <td>NaN</td>\n",
       "      <td>Partnered</td>\n",
       "      <td>NaN</td>\n",
       "      <td>NaN</td>\n",
       "      <td>NaN</td>\n",
       "      <td>NaN</td>\n",
       "    </tr>\n",
       "    <tr>\n",
       "      <th>freq</th>\n",
       "      <td>80</td>\n",
       "      <td>NaN</td>\n",
       "      <td>104</td>\n",
       "      <td>NaN</td>\n",
       "      <td>107</td>\n",
       "      <td>NaN</td>\n",
       "      <td>NaN</td>\n",
       "      <td>NaN</td>\n",
       "      <td>NaN</td>\n",
       "    </tr>\n",
       "    <tr>\n",
       "      <th>mean</th>\n",
       "      <td>NaN</td>\n",
       "      <td>28.788889</td>\n",
       "      <td>NaN</td>\n",
       "      <td>15.572222</td>\n",
       "      <td>NaN</td>\n",
       "      <td>3.455556</td>\n",
       "      <td>3.311111</td>\n",
       "      <td>53719.577778</td>\n",
       "      <td>166.127778</td>\n",
       "    </tr>\n",
       "    <tr>\n",
       "      <th>std</th>\n",
       "      <td>NaN</td>\n",
       "      <td>6.943498</td>\n",
       "      <td>NaN</td>\n",
       "      <td>1.617055</td>\n",
       "      <td>NaN</td>\n",
       "      <td>1.084797</td>\n",
       "      <td>0.958869</td>\n",
       "      <td>16506.684226</td>\n",
       "      <td>83.438067</td>\n",
       "    </tr>\n",
       "    <tr>\n",
       "      <th>min</th>\n",
       "      <td>NaN</td>\n",
       "      <td>18.000000</td>\n",
       "      <td>NaN</td>\n",
       "      <td>12.000000</td>\n",
       "      <td>NaN</td>\n",
       "      <td>2.000000</td>\n",
       "      <td>1.000000</td>\n",
       "      <td>29562.000000</td>\n",
       "      <td>34.000000</td>\n",
       "    </tr>\n",
       "    <tr>\n",
       "      <th>25%</th>\n",
       "      <td>NaN</td>\n",
       "      <td>24.000000</td>\n",
       "      <td>NaN</td>\n",
       "      <td>14.000000</td>\n",
       "      <td>NaN</td>\n",
       "      <td>3.000000</td>\n",
       "      <td>3.000000</td>\n",
       "      <td>44058.750000</td>\n",
       "      <td>106.000000</td>\n",
       "    </tr>\n",
       "    <tr>\n",
       "      <th>50%</th>\n",
       "      <td>NaN</td>\n",
       "      <td>26.000000</td>\n",
       "      <td>NaN</td>\n",
       "      <td>16.000000</td>\n",
       "      <td>NaN</td>\n",
       "      <td>3.000000</td>\n",
       "      <td>3.000000</td>\n",
       "      <td>50596.500000</td>\n",
       "      <td>151.000000</td>\n",
       "    </tr>\n",
       "    <tr>\n",
       "      <th>75%</th>\n",
       "      <td>NaN</td>\n",
       "      <td>33.000000</td>\n",
       "      <td>NaN</td>\n",
       "      <td>16.000000</td>\n",
       "      <td>NaN</td>\n",
       "      <td>4.000000</td>\n",
       "      <td>4.000000</td>\n",
       "      <td>58668.000000</td>\n",
       "      <td>184.750000</td>\n",
       "    </tr>\n",
       "    <tr>\n",
       "      <th>max</th>\n",
       "      <td>NaN</td>\n",
       "      <td>50.000000</td>\n",
       "      <td>NaN</td>\n",
       "      <td>21.000000</td>\n",
       "      <td>NaN</td>\n",
       "      <td>7.000000</td>\n",
       "      <td>5.000000</td>\n",
       "      <td>104581.000000</td>\n",
       "      <td>579.000000</td>\n",
       "    </tr>\n",
       "  </tbody>\n",
       "</table>\n",
       "</div>"
      ],
      "text/plain": [
       "         Type         Age Gender   Education MaritalStatus   WeeklyUse  \\\n",
       "count     180  180.000000    180  180.000000           180  180.000000   \n",
       "unique      3         NaN      2         NaN             2         NaN   \n",
       "top     Basic         NaN   Male         NaN     Partnered         NaN   \n",
       "freq       80         NaN    104         NaN           107         NaN   \n",
       "mean      NaN   28.788889    NaN   15.572222           NaN    3.455556   \n",
       "std       NaN    6.943498    NaN    1.617055           NaN    1.084797   \n",
       "min       NaN   18.000000    NaN   12.000000           NaN    2.000000   \n",
       "25%       NaN   24.000000    NaN   14.000000           NaN    3.000000   \n",
       "50%       NaN   26.000000    NaN   16.000000           NaN    3.000000   \n",
       "75%       NaN   33.000000    NaN   16.000000           NaN    4.000000   \n",
       "max       NaN   50.000000    NaN   21.000000           NaN    7.000000   \n",
       "\n",
       "           Fitness         Income         Kms  \n",
       "count   180.000000     180.000000  180.000000  \n",
       "unique         NaN            NaN         NaN  \n",
       "top            NaN            NaN         NaN  \n",
       "freq           NaN            NaN         NaN  \n",
       "mean      3.311111   53719.577778  166.127778  \n",
       "std       0.958869   16506.684226   83.438067  \n",
       "min       1.000000   29562.000000   34.000000  \n",
       "25%       3.000000   44058.750000  106.000000  \n",
       "50%       3.000000   50596.500000  151.000000  \n",
       "75%       4.000000   58668.000000  184.750000  \n",
       "max       5.000000  104581.000000  579.000000  "
      ]
     },
     "execution_count": 12,
     "metadata": {},
     "output_type": "execute_result"
    }
   ],
   "source": [
    "df.describe(include='all')"
   ]
  },
  {
   "cell_type": "markdown",
   "metadata": {
    "id": "WXJqJJvjkyFU"
   },
   "source": [
    "### Plotting distribution for numerical columns"
   ]
  },
  {
   "cell_type": "code",
   "execution_count": 16,
   "metadata": {},
   "outputs": [
    {
     "data": {
      "text/plain": [
       "<AxesSubplot:ylabel='Frequency'>"
      ]
     },
     "execution_count": 16,
     "metadata": {},
     "output_type": "execute_result"
    },
    {
     "data": {
      "image/png": "[encoded data removed]",
      "text/plain": [
       "<Figure size 640x480 with 1 Axes>"
      ]
     },
     "metadata": {},
     "output_type": "display_data"
    }
   ],
   "source": [
    "# Plot the distribution of Age #for univariant we should use box plot, scatter plot, histogram or\n",
    "df['Age'].plot(kind='hist')"
   ]
  },
  {
   "cell_type": "code",
   "execution_count": 18,
   "metadata": {},
   "outputs": [
    {
     "data": {
      "text/plain": [
       "<AxesSubplot:ylabel='Density'>"
      ]
     },
     "execution_count": 18,
     "metadata": {},
     "output_type": "execute_result"
    },
    {
     "data": {
      "image/png": "[encoded data removed]",
      "text/plain": [
       "<Figure size 640x480 with 1 Axes>"
      ]
     },
     "metadata": {},
     "output_type": "display_data"
    }
   ],
   "source": [
    "df['Age'].plot(kind='kde')"
   ]
  },
  {
   "cell_type": "markdown",
   "metadata": {},
   "source": [
    "**Observations**\n",
    "- The age distribution is also right skewed. there are few people with age greater than 40 who focus on their fitness.  \n",
    "- Most of the customers are aged between 20 to 30, which signifies the people who are young tend to hit the gym more."
   ]
  },
  {
   "cell_type": "code",
   "execution_count": 20,
   "metadata": {},
   "outputs": [
    {
     "data": {
      "text/plain": [
       "<AxesSubplot:>"
      ]
     },
     "execution_count": 20,
     "metadata": {},
     "output_type": "execute_result"
    },
    {
     "data": {
      "image/png": "[encoded data removed]",
      "text/plain": [
       "<Figure size 640x480 with 1 Axes>"
      ]
     },
     "metadata": {},
     "output_type": "display_data"
    }
   ],
   "source": [
    "# plotting a boxplot for Age\n",
    "df['Age'].plot(kind='box')"
   ]
  },
  {
   "cell_type": "code",
   "execution_count": 22,
   "metadata": {},
   "outputs": [
    {
     "data": {
      "text/plain": [
       "<AxesSubplot:>"
      ]
     },
     "execution_count": 22,
     "metadata": {},
     "output_type": "execute_result"
    },
    {
     "data": {
      "image/png": "[encoded data removed]",
      "text/plain": [
       "<Figure size 640x480 with 1 Axes>"
      ]
     },
     "metadata": {},
     "output_type": "display_data"
    }
   ],
   "source": [
    "df.boxplot('Age', vert=False)"
   ]
  },
  {
   "cell_type": "markdown",
   "metadata": {
    "id": "q-u055I0kyFY"
   },
   "source": [
    "## <span style=\"color:crimson\">Bivariate analysis</span>"
   ]
  },
  {
   "cell_type": "code",
   "execution_count": 41,
   "metadata": {
    "id": "kOgl4zS6kyFZ",
    "outputId": "10a596d7-76ab-4f3d-ce38-737127135545"
   },
   "outputs": [],
   "source": [
    "# plot a boxplot of income by membership type\n"
   ]
  },
  {
   "cell_type": "markdown",
   "metadata": {
    "id": "jAWSopeIkyFa"
   },
   "source": [
    "**Observation**\n",
    "- Premium membership is bought by the people having an income range from 60K to 90k.\n",
    "- Basic membership is mostly consider by the people who have lower income level."
   ]
  },
  {
   "cell_type": "markdown",
   "metadata": {
    "id": "xJDLElYVkyFe"
   },
   "source": [
    "##  <span style=\"color:crimson\">Multi-Variate Analysis</span>"
   ]
  },
  {
   "cell_type": "code",
   "execution_count": 42,
   "metadata": {
    "id": "cDxYJ64nalx5",
    "outputId": "d8a984c9-43fd-454c-a790-2a8eaa2dbc4e",
    "scrolled": true
   },
   "outputs": [],
   "source": [
    "# Using .crosstab analyse data across Type, Gender, and MaritalStatus\n",
    "#pd.crosstab(data['Type'],[data['Gender']])\n"
   ]
  },
  {
   "cell_type": "markdown",
   "metadata": {
    "id": "b2grCG-CUW95"
   },
   "source": [
    "**Observation:**\n",
    "- It can be clearly seen from the table that the Basic membership is popular among both males and females.\n",
    "- Premium membership is popular among males. \n",
    "\n",
    "**Inference:**\n",
    "- Market premium memberships to Male customers."
   ]
  },
  {
   "cell_type": "code",
   "execution_count": 43,
   "metadata": {
    "id": "UCjf0j-galyB",
    "outputId": "cccb35aa-319e-4784-d75c-8f73eb6e19b3"
   },
   "outputs": [],
   "source": [
    "# using .pivot_table analyze data by membership type and income\n"
   ]
  },
  {
   "cell_type": "markdown",
   "metadata": {
    "id": "jRzUhox6UW96"
   },
   "source": [
    "**Observations:**\n",
    "- The average income of customers who bought Basic and Care is on the lower side as compared to the customers who bought Premium memberships.\n",
    "- The people who bought Premium memberships, there is a big difference in the income level of the people\n",
    "\n",
    "**Inference:**\n",
    "- The Income variable is a good predictor to find the preference of the customers."
   ]
  },
  {
   "cell_type": "markdown",
   "metadata": {
    "id": "RyK429bZs4AV"
   },
   "source": [
    "#### Let's check the exact value of correlation between the variables using correlation martix.\n"
   ]
  },
  {
   "cell_type": "code",
   "execution_count": null,
   "metadata": {
    "id": "6zeD93f_alym",
    "outputId": "7331fe3c-14d7-4f29-fae6-c898a3863afe"
   },
   "outputs": [],
   "source": []
  },
  {
   "cell_type": "code",
   "execution_count": 44,
   "metadata": {},
   "outputs": [],
   "source": [
    "# Scatter plot using Pandas\n"
   ]
  },
  {
   "cell_type": "markdown",
   "metadata": {
    "id": "-TDl_LFzUW99"
   },
   "source": [
    "**Observations:**\n",
    "- Kms and WeeklyUse , kms and Fitness are highly correlated with each other, which makes sense as more useage, leads to more kms hence results better fitness.\n",
    "- There is a high correlation between income and education too, signifies that the people with good education level tend to have higher income.\n",
    "- Fitness and WeeklyUse are also highly correlated.\n"
   ]
  },
  {
   "cell_type": "markdown",
   "metadata": {
    "id": "ixIGOJQfUW99"
   },
   "source": [
    "### Conclusions:\n",
    "- Premium membership is the least sold product among the three. Also, it is preferred by customers who are planning to run more, having good fitness, and higher income range.\n",
    "- Basic Membership is most popular which is preferred among customers having lower income range.\n",
    "- Care Membership is slightly less popular than Basic."
   ]
  }
 ],
 "metadata": {
  "colab": {
   "name": "CardioGoodFitness_Updated.ipynb",
   "provenance": []
  },
  "kernelspec": {
   "display_name": "Python 3 (ipykernel)",
   "language": "python",
   "name": "python3"
  },
  "language_info": {
   "codemirror_mode": {
    "name": "ipython",
    "version": 3
   },
   "file_extension": ".py",
   "mimetype": "text/x-python",
   "name": "python",
   "nbconvert_exporter": "python",
   "pygments_lexer": "ipython3",
   "version": "3.9.13"
  }
 },
 "nbformat": 4,
 "nbformat_minor": 1
}
